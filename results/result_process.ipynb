{
 "cells": [
  {
   "cell_type": "code",
   "execution_count": 1,
   "metadata": {},
   "outputs": [],
   "source": [
    "import json\n",
    "import pandas as pd"
   ]
  },
  {
   "cell_type": "code",
   "execution_count": 2,
   "metadata": {},
   "outputs": [],
   "source": [
    "data_name = ( 'causal_judgement', 'disambiguation', 'formal_fallacies', 'hyperbaton', 'logical_five', 'salient_translation')\n",
    "file_name = (\"0\", \"0.5\", \"1\", \"random\")\n",
    "# data_path = f'./random/{data_name[0]}.json'\n",
    "for i in range(4, 6):\n",
    "    train_acc, test_acc = [[],[],[]] , [[],[],[]]\n",
    "    for j in range(1):\n",
    "        data_path = f'./{file_name[j]}/{data_name[i]}.json'\n",
    "        with open(data_path, 'r', encoding='utf-8') as file:\n",
    "            data = json.load(file) \n",
    "            for info in data['prompt']:\n",
    "                train_acc[j].append(info['train_set_score'])\n",
    "                test_acc[j].append(info['test_set_score'])\n",
    "    pd.DataFrame(train_acc).T.to_csv(f\"./{data_name[i]}_train.csv\", header=False, index=False)\n",
    "    pd.DataFrame(test_acc).T.to_csv(f\"./{data_name[i]}_test.csv\", header=False, index=False)"
   ]
  },
  {
   "cell_type": "code",
   "execution_count": null,
   "metadata": {},
   "outputs": [],
   "source": [
    "print(test_acc)"
   ]
  }
 ],
 "metadata": {
  "kernelspec": {
   "display_name": "xmj",
   "language": "python",
   "name": "python3"
  },
  "language_info": {
   "codemirror_mode": {
    "name": "ipython",
    "version": 3
   },
   "file_extension": ".py",
   "mimetype": "text/x-python",
   "name": "python",
   "nbconvert_exporter": "python",
   "pygments_lexer": "ipython3",
   "version": "3.10.15"
  }
 },
 "nbformat": 4,
 "nbformat_minor": 2
}
